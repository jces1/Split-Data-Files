{
 "cells": [
  {
   "cell_type": "code",
   "execution_count": 1,
   "metadata": {},
   "outputs": [],
   "source": [
    "import pandas as pd\n",
    "import os"
   ]
  },
  {
   "cell_type": "code",
   "execution_count": 2,
   "metadata": {},
   "outputs": [],
   "source": [
    "maxRowLength = 500000           # max rows per file\n",
    "filename = 'steam_reviews.csv'  # csv, xls, or excel only"
   ]
  },
  {
   "cell_type": "code",
   "execution_count": 3,
   "metadata": {},
   "outputs": [],
   "source": [
    "fileExtension = os.path.splitext(filename)\n",
    "\n",
    "if fileExtension[1] == '.csv':\n",
    "    df = pd.read_csv(filename)\n",
    "elif (fileExtension[1] == '.xls') or (fileExtension[1] == '.xlsx'):\n",
    "    df = pd.read_excel(filename)\n",
    "else:\n",
    "    raise SystemExit(\"Expected csv, xls, or xlsx file extensions.\")"
   ]
  },
  {
   "cell_type": "code",
   "execution_count": 4,
   "metadata": {},
   "outputs": [],
   "source": [
    "# create lists with max index size of maxRowLength\n",
    "list_df = [df[i:i+maxRowLength] for i in range(0,df.shape[0],maxRowLength)]"
   ]
  },
  {
   "cell_type": "code",
   "execution_count": 5,
   "metadata": {},
   "outputs": [],
   "source": [
    "for i in range(0,len(list_df)):\n",
    "    dft = list_df[i]\n",
    "    dft.to_excel(f'output/[{str(i+1)}]{fileExtension[0]}.xlsx')\n"
   ]
  }
 ],
 "metadata": {
  "interpreter": {
   "hash": "1c5b04bc16705d408ae7e4fab81abf8300bf3bba8fccb4bc0420856d39466e55"
  },
  "kernelspec": {
   "display_name": "Python 3.9.10 64-bit (windows store)",
   "language": "python",
   "name": "python3"
  },
  "language_info": {
   "codemirror_mode": {
    "name": "ipython",
    "version": 3
   },
   "file_extension": ".py",
   "mimetype": "text/x-python",
   "name": "python",
   "nbconvert_exporter": "python",
   "pygments_lexer": "ipython3",
   "version": "3.9.10"
  },
  "orig_nbformat": 4
 },
 "nbformat": 4,
 "nbformat_minor": 2
}
